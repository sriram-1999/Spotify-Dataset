{
  "cells": [
    {
      "cell_type": "markdown",
      "metadata": {
        "id": "eFaG0zBUw24z"
      },
      "source": [
        "Question 7"
      ]
    },
    {
      "cell_type": "code",
      "execution_count": 1,
      "metadata": {
        "id": "CZvXpJrdbFdZ",
        "colab": {
          "base_uri": "https://localhost:8080/"
        },
        "outputId": "abbd46bd-673a-476d-d5aa-befb828244ac"
      },
      "outputs": [
        {
          "output_type": "stream",
          "name": "stdout",
          "text": [
            "       songNumber                                     artists  \\\n",
            "0               0                                 Gen Hoshino   \n",
            "1               1                                Ben Woodward   \n",
            "2               2                      Ingrid Michaelson;ZAYN   \n",
            "3               3                                Kina Grannis   \n",
            "4               4                            Chord Overstreet   \n",
            "...           ...                                         ...   \n",
            "51995       51995                        Don Omar;Trebol Clan   \n",
            "51996       51996                                    Don Omar   \n",
            "51997       51997                                    Don Omar   \n",
            "51998       51998  Moneybagg Yo;Pooh Shiesty;Lil Durk;EST Gee   \n",
            "51999       51999                         Don Omar;Juan Magán   \n",
            "\n",
            "                                              album_name  \\\n",
            "0                                                 Comedy   \n",
            "1                                       Ghost (Acoustic)   \n",
            "2                                         To Begin Again   \n",
            "3      Crazy Rich Asians (Original Motion Picture Sou...   \n",
            "4                                                Hold On   \n",
            "...                                                  ...   \n",
            "51995                            Perreo Tenebroso Vol. 3   \n",
            "51996                        Feliz Cumpleaños con Perreo   \n",
            "51997                            Última Misión Reggaeton   \n",
            "51998                                     Energy Hip Hop   \n",
            "51999                            Perreo Tenebroso Vol. 4   \n",
            "\n",
            "                                   track_name  popularity  duration  explicit  \\\n",
            "0                                      Comedy          73    230666     False   \n",
            "1                            Ghost - Acoustic          55    149610     False   \n",
            "2                              To Begin Again          57    210826     False   \n",
            "3                  Can't Help Falling In Love          71    201933     False   \n",
            "4                                     Hold On          82    198853     False   \n",
            "...                                       ...         ...       ...       ...   \n",
            "51995                   Tu Cuerpo Me Arrebata           0    203653     False   \n",
            "51996                           Dale Don Dale           1    212413     False   \n",
            "51997                           Dale Don Dale           0    212413     False   \n",
            "51998                        Switches & Dracs           0    168620      True   \n",
            "51999  No Sigue Modas Aka Ella No Sigue Modas           0    232000     False   \n",
            "\n",
            "       danceability  energy  key  loudness  mode  speechiness  acousticness  \\\n",
            "0             0.676  0.4610    1    -6.746     0       0.1430       0.03220   \n",
            "1             0.420  0.1660    1   -17.235     1       0.0763       0.92400   \n",
            "2             0.438  0.3590    0    -9.734     1       0.0557       0.21000   \n",
            "3             0.266  0.0596    0   -18.515     1       0.0363       0.90500   \n",
            "4             0.618  0.4430    2    -9.681     1       0.0526       0.46900   \n",
            "...             ...     ...  ...       ...   ...          ...           ...   \n",
            "51995         0.819  0.6450   10    -6.707     0       0.0481       0.23200   \n",
            "51996         0.831  0.8180    2    -7.827     1       0.0824       0.02450   \n",
            "51997         0.831  0.8180    2    -7.827     1       0.0824       0.02450   \n",
            "51998         0.727  0.6470   11    -7.383     0       0.2800       0.03290   \n",
            "51999         0.685  0.8620    0    -4.611     1       0.0627       0.00757   \n",
            "\n",
            "       instrumentalness  liveness  valence    tempo  time_signature  \\\n",
            "0              0.000001    0.3580    0.715   87.917               4   \n",
            "1              0.000006    0.1010    0.267   77.489               4   \n",
            "2              0.000000    0.1170    0.120   76.332               4   \n",
            "3              0.000071    0.1320    0.143  181.740               3   \n",
            "4              0.000000    0.0829    0.167  119.949               4   \n",
            "...                 ...       ...      ...      ...             ...   \n",
            "51995          0.000863    0.1780    0.724   94.998               4   \n",
            "51996          0.000319    0.0892    0.819   95.022               4   \n",
            "51997          0.000319    0.0892    0.819   95.022               4   \n",
            "51998          0.000000    0.2460    0.529  159.959               4   \n",
            "51999          0.001400    0.0226    0.884  128.032               4   \n",
            "\n",
            "      track_genre  \n",
            "0        acoustic  \n",
            "1        acoustic  \n",
            "2        acoustic  \n",
            "3        acoustic  \n",
            "4        acoustic  \n",
            "...           ...  \n",
            "51995     hip-hop  \n",
            "51996     hip-hop  \n",
            "51997     hip-hop  \n",
            "51998     hip-hop  \n",
            "51999     hip-hop  \n",
            "\n",
            "[52000 rows x 20 columns]\n"
          ]
        }
      ],
      "source": [
        "# Import necessary libraries\n",
        "import pandas as pd\n",
        "import numpy as np\n",
        "from sklearn.model_selection import train_test_split, cross_val_score\n",
        "from sklearn.preprocessing import StandardScaler, OneHotEncoder\n",
        "from sklearn.linear_model import LogisticRegression\n",
        "from sklearn.svm import SVC\n",
        "from sklearn.metrics import roc_auc_score\n",
        "import tensorflow as tf\n",
        "\n",
        "# Load the dataset\n",
        "file_path = '/content/drive/MyDrive/data science/spotify52kData.csv'  # Replace with your file path\n",
        "spotify_data = pd.read_csv(file_path)\n",
        "\n",
        "print(spotify_data)"
      ]
    },
    {
      "cell_type": "code",
      "execution_count": 2,
      "metadata": {
        "id": "disq9KWXjJFh",
        "colab": {
          "base_uri": "https://localhost:8080/"
        },
        "outputId": "9144edad-2162-4ed2-e9fd-9c429bb775aa"
      },
      "outputs": [
        {
          "output_type": "execute_result",
          "data": {
            "text/plain": [
              "songNumber          0\n",
              "artists             0\n",
              "album_name          0\n",
              "track_name          0\n",
              "popularity          0\n",
              "duration            0\n",
              "explicit            0\n",
              "danceability        0\n",
              "energy              0\n",
              "key                 0\n",
              "loudness            0\n",
              "mode                0\n",
              "speechiness         0\n",
              "acousticness        0\n",
              "instrumentalness    0\n",
              "liveness            0\n",
              "valence             0\n",
              "tempo               0\n",
              "time_signature      0\n",
              "track_genre         0\n",
              "dtype: int64"
            ]
          },
          "metadata": {},
          "execution_count": 2
        }
      ],
      "source": [
        "spotify_data.isna().sum()"
      ]
    },
    {
      "cell_type": "code",
      "source": [
        "# Assuming df is your DataFrame and 'genre' is the column where you want to make the change\n",
        "# Replace 'alt' with 'alternative rock' in the 'genre' column\n",
        "spotify_data['track_genre'] = spotify_data['track_genre'].replace('alternative', 'alt-rock')\n",
        "\n",
        "\n",
        "\n",
        "# Check for duplicate rows\n",
        "spotify_data.drop('songNumber', axis=1, inplace=True)\n",
        "duplicates = spotify_data.duplicated().sum()\n",
        "nulls=spotify_data.duplicated().isna().sum()\n",
        "\n",
        "\n",
        "print(f\"Number of duplicate rows in the dataset: {duplicates}\")\n",
        "print(f\"Number of nulls in the dataset: {nulls}\")\n",
        "\n",
        "spotify_data_dropped=spotify_data.drop_duplicates()\n",
        "print(spotify_data_dropped.shape)"
      ],
      "metadata": {
        "colab": {
          "base_uri": "https://localhost:8080/"
        },
        "id": "S3816n705WEW",
        "outputId": "5604e37a-9b5d-4c2a-9f8b-022d98ffb8b9"
      },
      "execution_count": 3,
      "outputs": [
        {
          "output_type": "stream",
          "name": "stdout",
          "text": [
            "Number of duplicate rows in the dataset: 863\n",
            "Number of nulls in the dataset: 0\n",
            "(51137, 19)\n"
          ]
        }
      ]
    },
    {
      "cell_type": "code",
      "execution_count": 5,
      "metadata": {
        "id": "VTLh0jd8Q5Lk",
        "colab": {
          "base_uri": "https://localhost:8080/",
          "height": 559
        },
        "outputId": "de9dda46-5a8d-40c9-9424-812026ce3b45"
      },
      "outputs": [
        {
          "output_type": "display_data",
          "data": {
            "text/plain": [
              "<Figure size 1000x600 with 1 Axes>"
            ],
            "image/png": "[encoded data removed]"
          },
          "metadata": {}
        }
      ],
      "source": [
        "import pandas as pd\n",
        "import matplotlib.pyplot as plt\n",
        "\n",
        "\n",
        "# Count the occurrences of each class\n",
        "class_counts = spotify_data_dropped['mode'].value_counts()  # Replace 'class_column' with your column name\n",
        "\n",
        "# Calculate percentages\n",
        "total = class_counts.sum()\n",
        "percentages = (class_counts / total) * 100\n",
        "\n",
        "# Plotting the class distribution\n",
        "plt.figure(figsize=(10, 6))\n",
        "bars = class_counts.plot(kind='bar')\n",
        "\n",
        "plt.title('Class Distribution')\n",
        "plt.xlabel('Class')\n",
        "plt.ylabel('Frequency')\n",
        "\n",
        "# Annotate with percentages\n",
        "for bar in bars.patches:\n",
        "    class_label = bar.get_x() + bar.get_width() / 2\n",
        "    yval = bar.get_height()\n",
        "    percentage = percentages[class_counts.index[int(class_label)]]\n",
        "    plt.text(class_label, yval, f'{percentage:.2f}%', va='bottom', ha='center')\n",
        "\n",
        "plt.show()"
      ]
    },
    {
      "cell_type": "code",
      "execution_count": 6,
      "metadata": {
        "colab": {
          "base_uri": "https://localhost:8080/"
        },
        "id": "oZN-KsTkjZuD",
        "outputId": "e7d3d69e-7068-4de9-d5ad-67b6271ed21c"
      },
      "outputs": [
        {
          "output_type": "stream",
          "name": "stdout",
          "text": [
            "ROC AUC for Logistic Regression on Test Data: 0.49658199666456465\n",
            "ROC AUC for SVM on Test Data: 0.4956892074374156\n"
          ]
        }
      ],
      "source": [
        "# Predicting Major or Minor Key from Valence\n",
        "# Assuming 'key' is binary (1 for Major, 0 for Minor)\n",
        "X_key = spotify_data_dropped[['valence']]  # Feature\n",
        "y_key = spotify_data_dropped['mode']        # Target\n",
        "\n",
        "\n",
        "# Splitting the dataset for key prediction\n",
        "X_key_train, X_key_test, y_key_train, y_key_test = train_test_split(X_key, y_key, test_size=0.2, random_state=16394389) # Jainam Jain Net ID\n",
        "\n",
        "# Logistic Regression with Cross-Validation for key prediction\n",
        "log_reg = LogisticRegression()\n",
        "# log_reg_scores = cross_val_score(log_reg, X_key_train, y_key_train, cv=5, scoring='roc_auc')\n",
        "log_reg.fit(X_key_train, y_key_train)\n",
        "\n",
        "# Make predictions on the test data\n",
        "y_pred = log_reg.predict_proba(X_key_test)[:, 0]\n",
        "\n",
        "# Calculate ROC AUC for the test data\n",
        "roc_auc_test = roc_auc_score(y_key_test, y_pred)\n",
        "print('ROC AUC for Logistic Regression on Test Data:', roc_auc_test)\n",
        "\n",
        "\n",
        "# Support Vector Machine with Cross-Validation for key prediction\n",
        "# Initialize the SVM model with probability=True\n",
        "svm_model = SVC(kernel=\"rbf\",probability=True)\n",
        "\n",
        "# Fit the model on the training data\n",
        "svm_model.fit(X_key_train, y_key_train)\n",
        "\n",
        "# Predict probabilities on the test data\n",
        "y_pred_proba = svm_model.predict_proba(X_key_test)[:, 1]\n",
        "\n",
        "# Calculate ROC AUC on the test data\n",
        "roc_auc_test = roc_auc_score(y_key_test, y_pred_proba)\n",
        "\n",
        "print('ROC AUC for SVM on Test Data:', roc_auc_test)"
      ]
    },
    {
      "cell_type": "code",
      "execution_count": 7,
      "metadata": {
        "id": "wuiuqzOQwzDh",
        "colab": {
          "base_uri": "https://localhost:8080/"
        },
        "outputId": "3f4f90e3-a543-4626-cc6a-e0956cb60f68"
      },
      "outputs": [
        {
          "output_type": "stream",
          "name": "stdout",
          "text": [
            "duration\n",
            "ROC AUC for Logistic Regression on Test Data: 0.5243516226099658\n",
            "danceability\n",
            "ROC AUC for Logistic Regression on Test Data: 0.45529471736724714\n",
            "energy\n",
            "ROC AUC for Logistic Regression on Test Data: 0.4494315119304384\n",
            "loudness\n",
            "ROC AUC for Logistic Regression on Test Data: 0.46640579439879143\n",
            "speechiness\n",
            "ROC AUC for Logistic Regression on Test Data: 0.430518068032085\n",
            "acousticness\n",
            "ROC AUC for Logistic Regression on Test Data: 0.4445450541415262\n",
            "instrumentalness\n",
            "ROC AUC for Logistic Regression on Test Data: 0.46163840380033516\n",
            "liveness\n",
            "ROC AUC for Logistic Regression on Test Data: 0.49618539229807246\n",
            "tempo\n",
            "ROC AUC for Logistic Regression on Test Data: 0.4902568154362444\n"
          ]
        }
      ],
      "source": [
        "# Re-defining the features as per the user's instruction\n",
        "features = ['duration', 'danceability', 'energy', 'loudness', 'speechiness',\n",
        "            'acousticness', 'instrumentalness', 'liveness','tempo']\n",
        "for feature in features:\n",
        "    X_key = spotify_data_dropped[[feature]]  # Feature\n",
        "    y_key = spotify_data_dropped['mode']        # Target\n",
        "    print(feature)\n",
        "\n",
        "    # Splitting the dataset for key prediction\n",
        "    X_key_train, X_key_test, y_key_train, y_key_test = train_test_split(X_key, y_key, test_size=0.2, random_state=16394389) # Jainam Jain Net ID\n",
        "\n",
        "    # Logistic Regression with Cross-Validation for key prediction\n",
        "    log_reg = LogisticRegression()\n",
        "    log_reg.fit(X_key_train, y_key_train)\n",
        "\n",
        "    # Make predictions on the test data\n",
        "    y_pred = log_reg.predict_proba(X_key_test)[:, 0]\n",
        "\n",
        "    # Calculate ROC AUC for the test data\n",
        "    roc_auc_test = roc_auc_score(y_key_test, y_pred)\n",
        "    print('ROC AUC for Logistic Regression on Test Data:', roc_auc_test)"
      ]
    },
    {
      "cell_type": "code",
      "source": [],
      "metadata": {
        "id": "sp_Bg5kF28HM"
      },
      "execution_count": null,
      "outputs": []
    }
  ],
  "metadata": {
    "colab": {
      "provenance": []
    },
    "kernelspec": {
      "display_name": "Python 3",
      "name": "python3"
    },
    "language_info": {
      "name": "python"
    }
  },
  "nbformat": 4,
  "nbformat_minor": 0
}